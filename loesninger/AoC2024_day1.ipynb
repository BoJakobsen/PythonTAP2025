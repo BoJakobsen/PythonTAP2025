{
  "nbformat": 4,
  "nbformat_minor": 0,
  "metadata": {
    "colab": {
      "provenance": [],
      "authorship_tag": "ABX9TyMJJRm9vToVdCF2vksdy0oq",
      "include_colab_link": true
    },
    "kernelspec": {
      "name": "python3",
      "display_name": "Python 3"
    },
    "language_info": {
      "name": "python"
    }
  },
  "cells": [
    {
      "cell_type": "markdown",
      "metadata": {
        "id": "view-in-github",
        "colab_type": "text"
      },
      "source": [
        "<a href=\"https://colab.research.google.com/github/BoJakobsen/PythonTAP2025/blob/main/loesninger/AoC2024_day1.ipynb\" target=\"_parent\"><img src=\"https://colab.research.google.com/assets/colab-badge.svg\" alt=\"Open In Colab\"/></a>"
      ]
    },
    {
      "cell_type": "markdown",
      "source": [
        "# AoC Day 1: Historian Hysteria (2024), Solution examples\n",
        "\n",
        "See the problem at:\n",
        "https://adventofcode.com/2024/day/1\n",
        "\n"
      ],
      "metadata": {
        "id": "aXT2dA9-sEJV"
      }
    },
    {
      "cell_type": "code",
      "metadata": {
        "id": "4d8b5ca8"
      },
      "source": [
        "# Load data (can be used for all AoC problems)\n",
        "\n",
        "# Define the test-data as a multiline string (as it will be in the file for the real problem)\n",
        "data = \"\"\"3   4\n",
        "          4   3\n",
        "          2   5\n",
        "          1   3\n",
        "          3   9\n",
        "          3   3\"\"\"\n",
        "\n",
        "\n",
        "# Load data form the above multiline string\n",
        "lines=[line.strip() for line in data.split('\\n')]\n",
        "\n",
        "# Alternativ\n",
        "# load data from a file (upload the datafile as 1.dat).\n",
        "#with open('1.dat') as f:\n",
        "#    lines=[line.strip() for line in f]\n",
        "\n",
        "\n",
        "# We now have have a list of strings, one for each line in the data.\n"
      ],
      "execution_count": 1,
      "outputs": []
    },
    {
      "cell_type": "code",
      "source": [
        "# Check the data read\n",
        "lines"
      ],
      "metadata": {
        "id": "EigB7xLDPrLh",
        "outputId": "76bd1a28-8b4c-4def-df38-9a8f922e5f53",
        "colab": {
          "base_uri": "https://localhost:8080/"
        }
      },
      "execution_count": 2,
      "outputs": [
        {
          "output_type": "execute_result",
          "data": {
            "text/plain": [
              "['3   4', '4   3', '2   5', '1   3', '3   9', '3   3']"
            ]
          },
          "metadata": {},
          "execution_count": 2
        }
      ]
    },
    {
      "cell_type": "code",
      "source": [
        "# Masage the data into a usefull structure for the problem\n",
        "\n",
        "# We convert each string to a list of two integer.\n",
        "data = [[int(item) for item in x.split()] for x in lines]\n",
        "# data is now list of list [ [x1 ,y1], [x2, y2], ... ]\n",
        "# Maybe ask ai (Gemini) for explaning this \"data convertion\""
      ],
      "metadata": {
        "id": "Z5i5Q4jTPvCy"
      },
      "execution_count": 3,
      "outputs": []
    },
    {
      "cell_type": "code",
      "source": [
        "# Check the final structure\n",
        "data"
      ],
      "metadata": {
        "id": "duAVwZgkPyw7",
        "outputId": "932401df-434f-4d1d-8c12-2e3b37bc2f09",
        "colab": {
          "base_uri": "https://localhost:8080/"
        }
      },
      "execution_count": 4,
      "outputs": [
        {
          "output_type": "execute_result",
          "data": {
            "text/plain": [
              "[[3, 4], [4, 3], [2, 5], [1, 3], [3, 9], [3, 3]]"
            ]
          },
          "metadata": {},
          "execution_count": 4
        }
      ]
    },
    {
      "cell_type": "markdown",
      "source": [
        "Nedenfor findes et par løsninger med forskellige grader af Pythonistisk tilgang, prøv at slå de funktioner op du ikke forstår, eller brug AI til at forklarer."
      ],
      "metadata": {
        "id": "583CioII4X-m"
      }
    },
    {
      "cell_type": "code",
      "source": [
        "\n",
        "# konverter data til søjler (det kunne man jo også have gjort ved indlæsningen)\n",
        "c1 = []\n",
        "c2 = []\n",
        "for a,b in data:\n",
        "    c1.append(a)\n",
        "    c2.append(b)\n",
        "\n",
        "total = 0\n",
        "# En simpel løsning, som dog ikke er særlig tids effektiv\n",
        "while len(c1)>0: # så længe der er elemente i c1 fortsætter vi\n",
        "  mc1 = min(c1) # find mindste element i c1\n",
        "  mc2 = min(c2) # find mindste element i c2\n",
        "  c1.remove(mc1) # fjern mindste element fra c1\n",
        "  c2.remove(mc2) # fjern mindste element fra c2\n",
        "  total += abs(mc1-mc2) # summer forskellen\n",
        "\n",
        "print(total)\n"
      ],
      "metadata": {
        "colab": {
          "base_uri": "https://localhost:8080/"
        },
        "id": "HdMRLZ0Q3LkL",
        "outputId": "d1eab47f-cf9f-4de1-d7f9-25d2922bfa9e"
      },
      "execution_count": 5,
      "outputs": [
        {
          "output_type": "stream",
          "name": "stdout",
          "text": [
            "11\n"
          ]
        }
      ]
    },
    {
      "cell_type": "code",
      "source": [],
      "metadata": {
        "id": "BfE3gVgr3dQE"
      },
      "execution_count": 5,
      "outputs": []
    },
    {
      "cell_type": "code",
      "source": [
        "# konverter data til søjler (det kunne man jo også have gjort ved indlæsningen)\n",
        "c1 = []\n",
        "c2 = []\n",
        "for a,b in data:\n",
        "    c1.append(a)\n",
        "    c2.append(b)\n",
        "\n",
        "# brug sorter metoden på en liste\n",
        "c1.sort()\n",
        "c2.sort()\n",
        "print(c1)\n",
        "print(c2)"
      ],
      "metadata": {
        "id": "q8j2BqOCsvzg",
        "colab": {
          "base_uri": "https://localhost:8080/"
        },
        "outputId": "627845c4-5d7b-4b26-bd8f-a3428ca57cb9"
      },
      "execution_count": 6,
      "outputs": [
        {
          "output_type": "stream",
          "name": "stdout",
          "text": [
            "[1, 2, 3, 3, 3, 4]\n",
            "[3, 3, 3, 4, 5, 9]\n"
          ]
        }
      ]
    },
    {
      "cell_type": "code",
      "source": [
        "# summer forskellen op, her med en \"gammeldags\" metode med eksplisit loop over antale af elementer\n",
        "# pas på det virker kun hvis der er lige mange elementer i c1 og c2.\n",
        "total = 0\n",
        "N  = len(c1)\n",
        "for i in range(N):\n",
        "    total += abs(c1[i]-c2[i])\n",
        "print(total)"
      ],
      "metadata": {
        "colab": {
          "base_uri": "https://localhost:8080/"
        },
        "id": "TnGpxQVM2pN8",
        "outputId": "b55dc1e8-5508-441f-e2fd-78997c09289c"
      },
      "execution_count": 7,
      "outputs": [
        {
          "output_type": "stream",
          "name": "stdout",
          "text": [
            "11\n"
          ]
        }
      ]
    },
    {
      "cell_type": "code",
      "source": [
        "# summer forskellen op, her bruges den lidt sværer funktion zip, som kombinere to lister\n",
        "# En hurtigere og mere Pythonistisk løsing\n",
        "total = 0\n",
        "for a,b in zip(c1,c2):\n",
        "    total += abs(a-b)\n",
        "print(total)"
      ],
      "metadata": {
        "colab": {
          "base_uri": "https://localhost:8080/"
        },
        "id": "Cd6Wjt5v05hw",
        "outputId": "85436448-f4ea-4aa9-c243-df12fa960b10"
      },
      "execution_count": 8,
      "outputs": [
        {
          "output_type": "stream",
          "name": "stdout",
          "text": [
            "11\n"
          ]
        }
      ]
    },
    {
      "cell_type": "code",
      "source": [],
      "metadata": {
        "id": "bEuhpzHK2n9z"
      },
      "execution_count": 8,
      "outputs": []
    }
  ]
}