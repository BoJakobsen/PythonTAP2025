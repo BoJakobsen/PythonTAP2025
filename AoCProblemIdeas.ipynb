{
  "nbformat": 4,
  "nbformat_minor": 0,
  "metadata": {
    "colab": {
      "provenance": [],
      "authorship_tag": "ABX9TyOyzbYnBYmI0axRf++plnvi",
      "include_colab_link": true
    },
    "kernelspec": {
      "name": "python3",
      "display_name": "Python 3"
    },
    "language_info": {
      "name": "python"
    }
  },
  "cells": [
    {
      "cell_type": "markdown",
      "metadata": {
        "id": "view-in-github",
        "colab_type": "text"
      },
      "source": [
        "<a href=\"https://colab.research.google.com/github/BoJakobsen/PythonTAP2025/blob/main/AoCProblemIdeas.ipynb\" target=\"_parent\"><img src=\"https://colab.research.google.com/assets/colab-badge.svg\" alt=\"Open In Colab\"/></a>"
      ]
    },
    {
      "cell_type": "markdown",
      "source": [
        "## Ideas for AoC problems\n",
        "\n",
        "Generated with Claude.ai"
      ],
      "metadata": {
        "id": "QZ73ojZMhS9c"
      }
    },
    {
      "cell_type": "markdown",
      "source": [
        "## Day 1 (2023) - Trebuchet?!\n",
        "\n",
        "* Skills: String iteration, isdigit(), lists\n",
        "* Very gentle introduction, clear problem\n",
        "\n",
        "```Pytohon\n",
        "# Core concepts:\n",
        "  for line in lines:\n",
        "    for char in line:\n",
        "      if char.isdigit():\n",
        "        # do something\n",
        "```"
      ],
      "metadata": {
        "id": "dCXha4YJhaCx"
      }
    },
    {
      "cell_type": "markdown",
      "source": [
        "## Day 2 (2023) - Cube Conundrum\n",
        "\n",
        "* Skills: String parsing with .split(), comparisons\n",
        "* Teaches parsing structured text\n",
        "\n",
        "```Python\n",
        "# Example: \"3 blue, 4 red\"\n",
        "game.split(',')\n",
        "count, color = part.split()\n",
        "```"
      ],
      "metadata": {
        "id": "BSWbRR1hhyZp"
      }
    },
    {
      "cell_type": "markdown",
      "source": [
        "## Day 4 (2023) - Scratchcards\n",
        "\n",
        "* Skills: Sets, set intersection\n",
        "* Perfect intro to sets\n",
        "\n",
        "```Python\n",
        "winning = set([1, 2, 3])\n",
        "yours = set([2, 3, 4])\n",
        "matches = winning & yours  # {2, 3}\n",
        "```"
      ],
      "metadata": {
        "id": "NoZOKNK-iHWq"
      }
    },
    {
      "cell_type": "code",
      "execution_count": null,
      "metadata": {
        "id": "BsddZywjhAGQ"
      },
      "outputs": [],
      "source": []
    }
  ]
}