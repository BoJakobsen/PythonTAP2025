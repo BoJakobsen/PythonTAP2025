{
  "nbformat": 4,
  "nbformat_minor": 0,
  "metadata": {
    "colab": {
      "provenance": [],
      "authorship_tag": "ABX9TyMT58lvH0P3LHGyyVfZ4Jba",
      "include_colab_link": true
    },
    "kernelspec": {
      "name": "python3",
      "display_name": "Python 3"
    },
    "language_info": {
      "name": "python"
    }
  },
  "cells": [
    {
      "cell_type": "markdown",
      "metadata": {
        "id": "view-in-github",
        "colab_type": "text"
      },
      "source": [
        "<a href=\"https://colab.research.google.com/github/BoJakobsen/PythonTAP2025/blob/main/AoCProblemIdeas.ipynb\" target=\"_parent\"><img src=\"https://colab.research.google.com/assets/colab-badge.svg\" alt=\"Open In Colab\"/></a>"
      ]
    },
    {
      "cell_type": "markdown",
      "source": [
        "## Ideas for AoC problems\n",
        "\n",
        "Generated with Claude.ai"
      ],
      "metadata": {
        "id": "QZ73ojZMhS9c"
      }
    },
    {
      "cell_type": "markdown",
      "source": [
        "## Day 1 (2023) - Trebuchet?!\n",
        "\n",
        "* Skills: String iteration, isdigit(), lists\n",
        "* Very gentle introduction, clear problem\n",
        "\n",
        "```Pytohon\n",
        "# Core concepts:\n",
        "  for line in lines:\n",
        "    for char in line:\n",
        "      if char.isdigit():\n",
        "        # do something\n",
        "```"
      ],
      "metadata": {
        "id": "dCXha4YJhaCx"
      }
    },
    {
      "cell_type": "markdown",
      "source": [
        "## Day 2 (2023) - Cube Conundrum\n",
        "\n",
        "* Skills: String parsing with .split(), comparisons\n",
        "* Teaches parsing structured text\n",
        "\n",
        "```Python\n",
        "# Example: \"3 blue, 4 red\"\n",
        "game.split(',')\n",
        "count, color = part.split()\n",
        "```"
      ],
      "metadata": {
        "id": "BSWbRR1hhyZp"
      }
    },
    {
      "cell_type": "markdown",
      "source": [
        "## Day 4 (2023) - Scratchcards\n",
        "\n",
        "* Skills: Sets, set intersection\n",
        "* Perfect intro to sets\n",
        "\n",
        "```Python\n",
        "winning = set([1, 2, 3])\n",
        "yours = set([2, 3, 4])\n",
        "matches = winning & yours  # {2, 3}\n",
        "```"
      ],
      "metadata": {
        "id": "NoZOKNK-iHWq"
      }
    },
    {
      "cell_type": "markdown",
      "source": [
        "## Day 6 (2023) - Wait For It\n",
        "* Skills: Simple loops, arithmetic\n",
        "* Just math in a loop, very straightforward\n",
        "\n",
        "```Python\n",
        "for hold_time in range(race_time):\n",
        "  distance = hold_time * (race_time - hold_time)\n",
        "```"
      ],
      "metadata": {
        "id": "Y4dGbEvBkTmO"
      }
    },
    {
      "cell_type": "markdown",
      "source": [
        "## Day 1 (2024) - Historian Hysteria\n",
        "\n",
        "* Skills: Lists, sorting, zip()\n",
        "* Great intro to list operations\n",
        "\n",
        "```Python\n",
        "left.sort()\n",
        "right.sort()\n",
        "  for l, r in zip(left, right):\n",
        "    diff = abs(l - r)\n",
        "```"
      ],
      "metadata": {
        "id": "y2yQRRYOktVX"
      }
    },
    {
      "cell_type": "markdown",
      "source": [
        "## Day 2 (2024) - Red-Nosed Reports\n",
        "\n",
        "* Skills: List comprehension, checking conditions\n",
        "* Teaches sequential checking\n",
        "\n",
        "```Python\n",
        "levels = [int(x) for x in line.split()]\n",
        "   for i in range(len(levels) - 1):\n",
        "       diff = levels[i+1] - levels[i]\n",
        "```"
      ],
      "metadata": {
        "id": "OW_RPDJIk7vj"
      }
    },
    {
      "cell_type": "markdown",
      "source": [
        "## Day 4 (2024) - Ceres Search\n",
        "\n",
        "* Skills: 2D grids (list of strings), nested loops\n",
        "* Introduction to grid problems\n",
        "\n",
        "```Python\n",
        "grid = [list(line) for line in lines]\n",
        "   for row in range(len(grid)):\n",
        "       for col in range(len(grid[0])):\n",
        "           char = grid[row][col]\n",
        "```\n"
      ],
      "metadata": {
        "id": "UnoDyTi3lJsd"
      }
    }
  ]
}