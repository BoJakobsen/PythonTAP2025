{
  "nbformat": 4,
  "nbformat_minor": 0,
  "metadata": {
    "colab": {
      "provenance": [],
      "authorship_tag": "ABX9TyPqjL+ytWJou7ZVXWlIxLU8",
      "include_colab_link": true
    },
    "kernelspec": {
      "name": "python3",
      "display_name": "Python 3"
    },
    "language_info": {
      "name": "python"
    }
  },
  "cells": [
    {
      "cell_type": "markdown",
      "metadata": {
        "id": "view-in-github",
        "colab_type": "text"
      },
      "source": [
        "<a href=\"https://colab.research.google.com/github/BoJakobsen/PythonTAP2025/blob/main/AoC2023_day1.ipynb\" target=\"_parent\"><img src=\"https://colab.research.google.com/assets/colab-badge.svg\" alt=\"Open In Colab\"/></a>"
      ]
    },
    {
      "cell_type": "markdown",
      "source": [
        "# Advent of Code, Day 1: Trebuchet?! (2023)\n",
        "\n",
        "See the problem at:\n",
        "\n",
        "https://adventofcode.com/2023/day/1\n",
        "\n",
        "Hvis man vil prøve kræfter med det fulde dataset kræver det at man logger ind på AoC (eller får Bo's datafile).\n",
        "\n",
        "Men prøv først med test dataene.\n",
        "\n"
      ],
      "metadata": {
        "id": "aXT2dA9-sEJV"
      }
    },
    {
      "cell_type": "code",
      "metadata": {
        "id": "4d8b5ca8"
      },
      "source": [
        "# Load data (can be used for all AoC problems)\n",
        "\n",
        "# As AoC does not like you to have their data in public copies, you have to put\n",
        "# in yourselve\n",
        "\n",
        "# Define the test-data as a multiline string (as it will be in the file for the real problem)\n",
        "data = \"\"\"\n",
        "\"\"\"\n",
        "\n",
        "# Load data form the above multiline string\n",
        "lines=[line.strip() for line in data.split('\\n')]\n",
        "\n",
        "# Alternativ\n",
        "# load data from a file (upload the datafile as 1.dat).\n",
        "#with open('1.dat') as f:\n",
        "#    lines=[line.strip() for line in f]\n",
        "\n",
        "\n",
        "# We now have have a list of strings, one for each line in the data."
      ],
      "execution_count": null,
      "outputs": []
    },
    {
      "cell_type": "code",
      "source": [
        "# Check the data read\n",
        "lines"
      ],
      "metadata": {
        "id": "yIMiNFUNNi__"
      },
      "execution_count": null,
      "outputs": []
    },
    {
      "cell_type": "code",
      "source": [],
      "metadata": {
        "id": "fcDxOfCrNQel"
      },
      "execution_count": null,
      "outputs": []
    }
  ]
}