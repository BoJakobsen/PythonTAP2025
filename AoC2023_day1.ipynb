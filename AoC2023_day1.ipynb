{
  "nbformat": 4,
  "nbformat_minor": 0,
  "metadata": {
    "colab": {
      "provenance": [],
      "authorship_tag": "ABX9TyN+Pkl2Y18+ZnIt+uJCukGQ",
      "include_colab_link": true
    },
    "kernelspec": {
      "name": "python3",
      "display_name": "Python 3"
    },
    "language_info": {
      "name": "python"
    }
  },
  "cells": [
    {
      "cell_type": "markdown",
      "metadata": {
        "id": "view-in-github",
        "colab_type": "text"
      },
      "source": [
        "<a href=\"https://colab.research.google.com/github/BoJakobsen/PythonTAP2025/blob/main/AoC2023_day1.ipynb\" target=\"_parent\"><img src=\"https://colab.research.google.com/assets/colab-badge.svg\" alt=\"Open In Colab\"/></a>"
      ]
    },
    {
      "cell_type": "markdown",
      "source": [
        "# Advent of Code AoC Day 1: Historian Hysteria (2024)\n",
        "\n",
        "See the problem at:\n",
        "\n",
        "https://adventofcode.com/2024/day/1\n",
        "\n",
        "Hvis man vil prøve kræfter med det fulde dataset kræver det at man logger ind på AoC (eller får Bo's datafile).\n",
        "\n",
        "Men prøv først med test dataene.\n",
        "\n"
      ],
      "metadata": {
        "id": "aXT2dA9-sEJV"
      }
    },
    {
      "cell_type": "code",
      "metadata": {
        "id": "4d8b5ca8"
      },
      "source": [
        "# Load data (can be used for all AoC problems)\n",
        "\n",
        "# Define the test-data as a multiline string (as it will be in the file for the real problem)\n",
        "data = \"\"\"3   4\n",
        "          4   3\n",
        "          2   5\n",
        "          1   3\n",
        "          3   9\n",
        "          3   3\"\"\"\n",
        "\n",
        "\n",
        "# Load data form the above multiline string\n",
        "lines=[line.strip() for line in data.split('\\n')]\n",
        "\n",
        "# Alternativ\n",
        "# load data from a file (upload the datafile as 1.dat).\n",
        "#with open('1.dat') as f:\n",
        "#    lines=[line.strip() for line in f]\n",
        "\n",
        "\n",
        "# We now have have a list of strings, one for each line in the data."
      ],
      "execution_count": null,
      "outputs": []
    },
    {
      "cell_type": "code",
      "source": [
        "# Check the data read\n",
        "lines"
      ],
      "metadata": {
        "colab": {
          "base_uri": "https://localhost:8080/"
        },
        "id": "yIMiNFUNNi__",
        "outputId": "5d4a12fd-e78d-4dbf-abd0-dca9b622a703"
      },
      "execution_count": null,
      "outputs": [
        {
          "output_type": "execute_result",
          "data": {
            "text/plain": [
              "['3   4', '4   3', '2   5', '1   3', '3   9', '3   3']"
            ]
          },
          "metadata": {},
          "execution_count": 2
        }
      ]
    },
    {
      "cell_type": "code",
      "source": [
        "# Masage the data into a usefull structure for the problem\n",
        "\n",
        "# We convert each string to a list of two integer.\n",
        "data = [[int(item) for item in x.split()] for x in lines]\n",
        "# data is now list of list [ [x1 ,y1], [x2, y2], ... ]\n",
        "# Maybe ask ai (Gemini) for explaning this \"data convertion\""
      ],
      "metadata": {
        "id": "q8j2BqOCsvzg"
      },
      "execution_count": null,
      "outputs": []
    },
    {
      "cell_type": "code",
      "source": [
        "# Check the final structure\n",
        "data"
      ],
      "metadata": {
        "id": "eJwprj0waLc2",
        "colab": {
          "base_uri": "https://localhost:8080/"
        },
        "outputId": "37b9dd11-fa50-4393-e77c-b03c647a7ee4"
      },
      "execution_count": null,
      "outputs": [
        {
          "output_type": "execute_result",
          "data": {
            "text/plain": [
              "[[3, 4], [4, 3], [2, 5], [1, 3], [3, 9], [3, 3]]"
            ]
          },
          "metadata": {},
          "execution_count": 4
        }
      ]
    },
    {
      "cell_type": "code",
      "source": [],
      "metadata": {
        "id": "fcDxOfCrNQel"
      },
      "execution_count": null,
      "outputs": []
    }
  ]
}